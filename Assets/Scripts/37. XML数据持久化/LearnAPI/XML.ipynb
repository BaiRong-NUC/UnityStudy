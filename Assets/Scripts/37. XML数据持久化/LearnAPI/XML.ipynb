{
 "cells": [
  {
   "cell_type": "markdown",
   "id": "4864d538",
   "metadata": {},
   "source": [
    "1. XML 注释\n",
    "\n",
    "```xml\n",
    "<!--\n",
    "    注释内容\n",
    "-->\n",
    "```\n",
    "\n",
    "2. 固定内容: 代表 xml 的版本 使用的编码\n",
    "\n",
    "```xml\n",
    "<?xml version=\"1.0\" encoding=\"UTF-8\"?>\n",
    "```\n",
    "\n",
    "3. 基本语法: 元素标签与元素标签配对出现\n",
    "\n",
    "   - xml 中必须且只能有一个根节点\n",
    "   - 两个标签之间代表这个属性的值,标签和标签直接也可以包裹别的标签\n",
    "   - xml 标签对大小写敏感\n",
    "\n",
    "4. 特殊符号应该用实体运用\n",
    "\n",
    "   - &lt (<小于)\n",
    "   - &gt (>大于)\n",
    "   - &amp (&)\n",
    "   - &apos (')\n",
    "   - &quot (\")\n",
    "\n",
    "5. xml 属性: 解决一个标签表达多个信息\n",
    "   - 属性必须使用引号包裹,单引号双引号都可以\n",
    "   - 属性和标签节点都可以记录数据\n"
   ]
  }
 ],
 "metadata": {
  "kernelspec": {
   "display_name": ".NET (C#)",
   "language": "C#",
   "name": ".net-csharp"
  },
  "language_info": {
   "name": "polyglot-notebook"
  },
  "polyglot_notebook": {
   "kernelInfo": {
    "defaultKernelName": "csharp",
    "items": [
     {
      "aliases": [],
      "name": "csharp"
     }
    ]
   }
  }
 },
 "nbformat": 4,
 "nbformat_minor": 5
}

{
 "cells": [
  {
   "cell_type": "markdown",
   "id": "4a08b107",
   "metadata": {},
   "source": [
    "# 碰撞体\n",
    "## 1. 碰撞体种类\n",
    "1. 盒状 \n",
    "2. 球状\n",
    "3. 胶囊\n",
    "4. 网格\n",
    "5. 轮胎\n",
    "6. 地形 \n",
    "## 2. 共同参数\n",
    "1. Is Trigger: 是否是触发器,如果启动此属性则碰撞体将用于出发事件,并被物理引擎忽略\n",
    "2. Materioal: 物理材质,可以确定碰撞体和其他对象碰撞时交互(表现方式),详情见下面 Materioal\n",
    "3. Center: 碰撞体在对象局部空间中的中心位置\n",
    "## 3. 常用碰撞器\n",
    "1. BoxCollider: 盒装碰撞器\n",
    "-   Size: 碰撞体大小\n",
    "2. Sphere Collider: 球状碰撞器\n",
    "- Radius: 碰撞体半径大小\n",
    "3. capsule Collider: 胶囊碰撞器\n",
    "- Radius: 胶囊体半径\n",
    "- Height: 胶囊体高度\n",
    "- Directin: 胶囊体在局部对象空间中的转向\n",
    "4. 异形物体使用多种碰撞器组合\n",
    "- 刚体对象的子对象碰撞器信息参与碰撞检测,可以使用子对象来拼凑成复杂的碰撞体\n",
    "5. 不常用的碰撞器(性能较高)\n",
    "1. Mesh Collider: 网格碰撞器,最多255个三角形面\n",
    "- Convex: 启用后 Mesh Collider将于 Mesh Collider碰撞 (加了刚体必须勾选)\n",
    "- Cooking Options: 启用或禁用影响物理引擎对网格处理方式的网格烹制选项\n",
    "- Mesh: 设置对应的网格信息\n",
    "2. Whell Collider: 环状碰撞器(汽车游戏使用)\n",
    "- 和刚体父对象配合使用\n",
    "- 刚体父对象的质量必须足够大,否则会弹飞\n",
    "3. Terrain Collider: 地形碰撞器\n",
    "- Terrain Data: 地形数据\n",
    "- Enable Tree Colliders: 启用树形碰撞体"
   ]
  },
  {
   "cell_type": "markdown",
   "id": "54840fab",
   "metadata": {},
   "source": [
    "# 物理材质Materioal\n",
    "## 1. 创建新的物理材质\n",
    "1. Asserts下 Create -> Pthysics Materioal\n",
    "2. 参数\n",
    "- Dynamic Friction: 动摩擦系数 0-1\n",
    "- Static Friction:  静摩擦系数 0-1\n",
    "- Bounciness: 表面弹性如何,值为0将不会反弹,值为1在反弹时不会产生能量损失\n",
    "- Friction Combine: 两个碰撞对象的摩擦力的组合方式\n",
    "- Unce Combine: 两个碰撞对象的弹性组合方式.组合方式和Friction Combine相同"
   ]
  }
 ],
 "metadata": {
  "language_info": {
   "name": "python"
  }
 },
 "nbformat": 4,
 "nbformat_minor": 5
}

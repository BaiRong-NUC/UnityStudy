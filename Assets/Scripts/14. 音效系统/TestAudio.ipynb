{
 "cells": [
  {
   "cell_type": "markdown",
   "id": "02c48e68",
   "metadata": {},
   "source": [
    "# 音频文件导入参数\n",
    "1. 音频文件导入,常用格式wav,mp3,ogg,aiff\n",
    "\n",
    "2. 音频文件属性设置\n",
    "- Force To Mono: 多声道转单声道; Normalize: 强制为单声道,在混合过程中被标准化\n",
    "- Load in background: 在后台加载, 不阻塞主线程\n",
    "- Ambisonic: 立体混合声\n",
    "- LoadType: 加载类型    \n",
    "    * Decompress On Load: 不压缩, 内存占用高, 加载快(适合小音效)\n",
    "    * Compress in memory: 压缩, 内存占用低, 加载慢(适合大音效)\n",
    "    * Streaming: 以流形式存在,使用时解码,内存占用最小,CPU消耗高(性能换内存)\n",
    "- Preload Audio Data: 预加载音频, 勾选后进入场景就加载, 不勾选, 第一次使用时加载\n",
    "- Compression Format: 压缩方式\n",
    "    * PCM: 音频最高质量存储\n",
    "    * Vorbis: 相对PCM压缩更小,根据质量决定\n",
    "    * ADPCM: 包含噪音会被多次播放的声音, 如碰撞声\n",
    "- Quality: 音频质量(确定要应用压缩剪辑的压缩量,不适用PCM,ADPCM)\n",
    "- Sample Rate Setting: (PCM和ADPCM压缩允许自动优化或手动优化采样率)\n",
    "    * Preserve Sample Rate: 设置采样率不变(默认值)\n",
    "    * Optimize Sample Rate: 自用优化采样率\n",
    "    * Override Sample Rate: 手动覆盖采样率\n",
    "# AudioSource脚本参数\n",
    "1. Audio Clip: 声音剪辑文件(音频文件)\n",
    "2. Output: 默认输出到场景中的音频监听器,可以更改为输出到混音器\n",
    "3. Mute: 静音开关\n",
    "4. Bypass Effect: 开关滤波器效果\n",
    "5. Bypass Listener Effects: 快速开关所有监听器\n",
    "6. Bypass Reverb Zones: 快速开关所有混响器\n",
    "7. Play On Wake: 对象创建时就播放音乐\n",
    "8. Loop: 循环\n",
    "9. Priority: 优先级 0最大, 当场景的音乐多了后越不容易被覆盖\n",
    "10. Volume: 音量大小\n",
    "11. Pitch: 音高(影响声音)\n",
    "12. Stereo Pan: 2D声音立体音位置相当于左右声道\n",
    "13. Spatial Blend: 音频受3D空间的影响程度(0-1)\n",
    "14. Reverb Zone Mix: 到混响区的输出信号量\n",
    "15. 3D Sound Settings: 和Spatial Blend参数成正比应用\n",
    "- Doppler Level: 多普勒效果等级\n",
    "- Spread: 扩散角度设置为3D立体声还是多声道\n",
    "- Volume Rolloff: 声音衰减速度\n",
    "    * Logarithmic Rolloff: 靠近音频源时,声音很大,离开对象时声音降低的非常快\n",
    "    * Linear Rolloff: 与音频的距离越远声音越小\n",
    "    * Custom Rolloff: 音频源的音频效果根据曲线图的设置变化\n",
    "    * Min/Max Distance: 最小距离内,声音保持最大响度; 最大距离外声音开始衰减"
   ]
  }
 ],
 "metadata": {
  "language_info": {
   "name": "python"
  }
 },
 "nbformat": 4,
 "nbformat_minor": 5
}
